{
  "nbformat": 4,
  "nbformat_minor": 0,
  "metadata": {
    "colab": {
      "private_outputs": true,
      "provenance": []
    },
    "kernelspec": {
      "name": "python3",
      "display_name": "Python 3"
    },
    "language_info": {
      "name": "python"
    }
  },
  "cells": [
    {
      "cell_type": "code",
      "execution_count": null,
      "metadata": {
        "id": "2tbSKaebt4lU"
      },
      "outputs": [],
      "source": [
        "import re"
      ]
    },
    {
      "cell_type": "code",
      "source": [
        "sentence = \"We bought our  Golden Retriever, Snuggles, for $30 on 1/1/2015 at 1017 Main St. where they   have many dogs.\""
      ],
      "metadata": {
        "id": "1cxH3d2GuHmk"
      },
      "execution_count": null,
      "outputs": []
    },
    {
      "cell_type": "code",
      "source": [
        "re.search(r\"the\", sentence) is not None"
      ],
      "metadata": {
        "id": "urU2wBGCuZtd"
      },
      "execution_count": null,
      "outputs": []
    },
    {
      "cell_type": "code",
      "source": [
        "re.search(r\"\\d\", sentence).group()"
      ],
      "metadata": {
        "id": "Zw3TfW5oumM6"
      },
      "execution_count": null,
      "outputs": []
    },
    {
      "cell_type": "code",
      "source": [
        "re.search(r\"\\d+\", sentence).group()"
      ],
      "metadata": {
        "id": "_7ZRrEefu4gd"
      },
      "execution_count": null,
      "outputs": []
    },
    {
      "cell_type": "code",
      "source": [
        "re.findall(r\"\\b\\d+\\b\", sentence)"
      ],
      "metadata": {
        "id": "taTClUc-vIvu"
      },
      "execution_count": null,
      "outputs": []
    },
    {
      "cell_type": "code",
      "source": [
        "len(re.findall(r\"dog\", sentence))"
      ],
      "metadata": {
        "id": "XwfBZjXJwRFz"
      },
      "execution_count": null,
      "outputs": []
    },
    {
      "cell_type": "code",
      "source": [
        "# Replace the 2nd digit with a 9\n",
        "# count = 1 means replace the 1st match\n",
        "re.sub(r\"(?<=\\d)[^\\d]*(\\d)\", \"9\", sentence, count = 1)"
      ],
      "metadata": {
        "id": "iPaaZ4r9weQ3"
      },
      "execution_count": null,
      "outputs": []
    },
    {
      "cell_type": "code",
      "source": [
        "# Replace every 0 or 1 with a 6\n",
        "# count = 0 means replace all matches\n",
        "re.sub(r\"(0|1)\", \"6\", sentence, count = 0)\n",
        "## 'We bought our  Golden Retriever, Snuggles, for $36 on 6/6/2665 at 6667 Main St. where they   have many dogs.'"
      ],
      "metadata": {
        "id": "1WbnpdVFxxD2"
      },
      "execution_count": null,
      "outputs": []
    },
    {
      "cell_type": "code",
      "source": [
        "re.sub(r\"\\s{2,}\", \" \", sentence)"
      ],
      "metadata": {
        "id": "9eS4zOK6ydx3"
      },
      "execution_count": null,
      "outputs": []
    },
    {
      "cell_type": "code",
      "source": [
        "phone = \"2004-959-559 # This is Phone Number\"\n",
        "\n",
        "num = re.sub(r\"\\D\", \"\", phone)\n",
        "num"
      ],
      "metadata": {
        "id": "mj-5h_guytpm"
      },
      "execution_count": null,
      "outputs": []
    },
    {
      "cell_type": "code",
      "source": [
        "phone = \"2004-959-559 # This is Phone Number\"\n",
        "\n",
        "re.findall(r\"\\d{4}-\\d{3}-\\d{3}\", phone)"
      ],
      "metadata": {
        "id": "pzz4cJ3MzqoZ"
      },
      "execution_count": null,
      "outputs": []
    },
    {
      "cell_type": "code",
      "source": [
        "phone = \"2004-959-559 # This is Phone Number\"\n",
        "\n",
        "num = re.sub(r\"#.*\", \"\", phone)\n",
        "num"
      ],
      "metadata": {
        "id": "uNXxwM830CsS"
      },
      "execution_count": null,
      "outputs": []
    }
  ]
}